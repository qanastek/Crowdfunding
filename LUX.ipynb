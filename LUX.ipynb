{
 "cells": [
  {
   "cell_type": "code",
   "execution_count": 1,
   "metadata": {},
   "outputs": [],
   "source": [
    "import lux\n",
    "import pandas as pd\n",
    "from datetime import datetime\n",
    "from currency_converter import CurrencyConverter"
   ]
  },
  {
   "cell_type": "code",
   "execution_count": 2,
   "metadata": {},
   "outputs": [],
   "source": [
    "cc = CurrencyConverter()\n",
    "dateparse = lambda x: datetime.strptime(x, '%Y-%m-%d %H:%M:%S')\n",
    "df = pd.read_csv(\"./data/projects.csv\", encoding='Windows-1252', na_values=[None], parse_dates=['start_date','end_date'], date_parser=dateparse)"
   ]
  },
  {
   "cell_type": "code",
   "execution_count": 3,
   "metadata": {},
   "outputs": [],
   "source": [
    "numeric_features = [\"age\", \"goal\", \"elapsed_days\"]\n",
    "categorical_features = [\"category\", \"subcategory\", \"country\", \"sex\"]"
   ]
  },
  {
   "cell_type": "code",
   "execution_count": 4,
   "metadata": {},
   "outputs": [
    {
     "name": "stderr",
     "output_type": "stream",
     "text": [
      "C:\\Users\\philtasticguy\\AppData\\Local\\Temp\\ipykernel_2996\\2411617415.py:27: FutureWarning:Dropping of nuisance columns in DataFrame reductions (with 'numeric_only=None') is deprecated; in a future version this will raise TypeError.  Select only valid columns before calling the reduction.\n"
     ]
    }
   ],
   "source": [
    "\n",
    "# Remove useless states and merge others\n",
    "df = df.drop(df[df.state.str.upper().isin([\"LIVE\", \"SUSPENDED\", \"UNDEFINED\"])].index)\n",
    "df.state = df.state.replace(\"canceled\", \"failed\")\n",
    "\n",
    "# Impute missing country values with the currencies\n",
    "df.country.fillna(df.currency.apply(lambda c: c[:2] if c != 'EUR' else None), inplace=True)\n",
    "\n",
    "# Downsampling the data\n",
    "min_occurences = min(df.groupby(['state']).size().reset_index(drop=True))\n",
    "df = pd.concat([\n",
    "    df[df.state.isin([col])].sample(min_occurences) for col in [\"failed\", \"successful\"]\n",
    "])\n",
    "\n",
    "# Get elapsed time in days\n",
    "df['elapsed_days'] = df.apply(lambda row: (row.end_date - row.start_date).days, axis=1)\n",
    "\n",
    "# Remove elements with more than 365 days\n",
    "df = df[df['elapsed_days'] <= 365]\n",
    "\n",
    "# Normalize Currency\n",
    "df['goal'] = df.apply(lambda row: cc.convert(row.goal, row.currency, 'USD'), axis=1)\n",
    "df = df.drop(['currency'], axis=1)\n",
    "\n",
    "df = df.drop(['id', 'name', 'start_date', 'end_date'], axis=1)\n",
    "\n",
    "# Fill missing numerical values\n",
    "df[numeric_features] = df[numeric_features].fillna(df.median().round(1))\n",
    "\n",
    "for c in categorical_features:\n",
    "    value = df[c].mode()[0]\n",
    "    df[c] = df[c].fillna(value=value)"
   ]
  },
  {
   "cell_type": "code",
   "execution_count": 6,
   "metadata": {},
   "outputs": [
    {
     "data": {
      "application/vnd.jupyter.widget-view+json": {
       "model_id": "0c1ab4fa8491435d9632ac3a3f69b958",
       "version_major": 2,
       "version_minor": 0
      },
      "text/plain": [
       "Button(description='Toggle Pandas/Lux', layout=Layout(top='5px', width='140px'), style=ButtonStyle())"
      ]
     },
     "metadata": {},
     "output_type": "display_data"
    },
    {
     "data": {
      "application/vnd.jupyter.widget-view+json": {
       "model_id": "5c32176cf3d444839ab191eecc01f1a9",
       "version_major": 2,
       "version_minor": 0
      },
      "text/plain": [
       "Output()"
      ]
     },
     "metadata": {},
     "output_type": "display_data"
    }
   ],
   "source": [
    "# df.save_as_html('crowdfunding.html')\n",
    "df"
   ]
  }
 ],
 "metadata": {
  "interpreter": {
   "hash": "b3ba2566441a7c06988d0923437866b63cedc61552a5af99d1f4fb67d367b25f"
  },
  "kernelspec": {
   "display_name": "Python 3",
   "language": "python",
   "name": "python3"
  },
  "language_info": {
   "codemirror_mode": {
    "name": "ipython",
    "version": 3
   },
   "file_extension": ".py",
   "mimetype": "text/x-python",
   "name": "python",
   "nbconvert_exporter": "python",
   "pygments_lexer": "ipython3",
   "version": "3.8.8"
  }
 },
 "nbformat": 4,
 "nbformat_minor": 2
}
